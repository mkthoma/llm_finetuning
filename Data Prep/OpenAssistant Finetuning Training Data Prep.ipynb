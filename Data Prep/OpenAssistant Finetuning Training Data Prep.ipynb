{
 "cells": [
  {
   "cell_type": "code",
   "execution_count": 2,
   "id": "9972003e-d848-452a-b6c8-1066d8471b04",
   "metadata": {
    "tags": []
   },
   "outputs": [
    {
     "data": {
      "application/vnd.jupyter.widget-view+json": {
       "model_id": "9ead1f87533b4ab9b36dd7a1204489aa",
       "version_major": 2,
       "version_minor": 0
      },
      "text/plain": [
       "Downloading readme:   0%|          | 0.00/10.2k [00:00<?, ?B/s]"
      ]
     },
     "metadata": {},
     "output_type": "display_data"
    },
    {
     "name": "stdout",
     "output_type": "stream",
     "text": [
      "Downloading and preparing dataset None/None to C:/Users/mathew.kenny/.cache/huggingface/datasets/OpenAssistant___parquet/OpenAssistant--oasst1-2960c57d7e52ab15/0.0.0/2a3b91fbd88a2c90d1dbbb32b460cf621d31bd5b05b934492fdef7d8d6f236ec...\n"
     ]
    },
    {
     "data": {
      "application/vnd.jupyter.widget-view+json": {
       "model_id": "5c2318b962ff4bccb2a59a9d80e88259",
       "version_major": 2,
       "version_minor": 0
      },
      "text/plain": [
       "Downloading data files:   0%|          | 0/2 [00:00<?, ?it/s]"
      ]
     },
     "metadata": {},
     "output_type": "display_data"
    },
    {
     "data": {
      "application/vnd.jupyter.widget-view+json": {
       "model_id": "1e20e50fa09b4ac0b65fe1036302740c",
       "version_major": 2,
       "version_minor": 0
      },
      "text/plain": [
       "Downloading data:   0%|          | 0.00/39.5M [00:00<?, ?B/s]"
      ]
     },
     "metadata": {},
     "output_type": "display_data"
    },
    {
     "data": {
      "application/vnd.jupyter.widget-view+json": {
       "model_id": "a0f7b89344a74e5ea97a8c07606268fe",
       "version_major": 2,
       "version_minor": 0
      },
      "text/plain": [
       "Downloading data:   0%|          | 0.00/2.08M [00:00<?, ?B/s]"
      ]
     },
     "metadata": {},
     "output_type": "display_data"
    },
    {
     "data": {
      "application/vnd.jupyter.widget-view+json": {
       "model_id": "e2eb43dd39ed4f73a176cc1b689aba1a",
       "version_major": 2,
       "version_minor": 0
      },
      "text/plain": [
       "Extracting data files:   0%|          | 0/2 [00:00<?, ?it/s]"
      ]
     },
     "metadata": {},
     "output_type": "display_data"
    },
    {
     "data": {
      "application/vnd.jupyter.widget-view+json": {
       "model_id": "",
       "version_major": 2,
       "version_minor": 0
      },
      "text/plain": [
       "Generating train split:   0%|          | 0/84437 [00:00<?, ? examples/s]"
      ]
     },
     "metadata": {},
     "output_type": "display_data"
    },
    {
     "data": {
      "application/vnd.jupyter.widget-view+json": {
       "model_id": "",
       "version_major": 2,
       "version_minor": 0
      },
      "text/plain": [
       "Generating validation split:   0%|          | 0/4401 [00:00<?, ? examples/s]"
      ]
     },
     "metadata": {},
     "output_type": "display_data"
    },
    {
     "name": "stdout",
     "output_type": "stream",
     "text": [
      "Dataset parquet downloaded and prepared to C:/Users/mathew.kenny/.cache/huggingface/datasets/OpenAssistant___parquet/OpenAssistant--oasst1-2960c57d7e52ab15/0.0.0/2a3b91fbd88a2c90d1dbbb32b460cf621d31bd5b05b934492fdef7d8d6f236ec. Subsequent calls will reuse this data.\n"
     ]
    },
    {
     "data": {
      "application/vnd.jupyter.widget-view+json": {
       "model_id": "3e21079812674ceab1230041e3129617",
       "version_major": 2,
       "version_minor": 0
      },
      "text/plain": [
       "  0%|          | 0/2 [00:00<?, ?it/s]"
      ]
     },
     "metadata": {},
     "output_type": "display_data"
    }
   ],
   "source": [
    "from datasets import load_dataset\n",
    "\n",
    "dataset = load_dataset(\"OpenAssistant/oasst1\")"
   ]
  },
  {
   "cell_type": "code",
   "execution_count": 7,
   "id": "43c96696-0ad5-470c-b5ae-72c72bbc794b",
   "metadata": {
    "tags": []
   },
   "outputs": [],
   "source": [
    "train_dataset = dataset['train']      # len(train)=84437 (95%)\n",
    "val_dataset = dataset['validation']   # len(val)=4401 (5%)"
   ]
  },
  {
   "cell_type": "code",
   "execution_count": 6,
   "id": "d760c5d0-ca5d-46a5-8159-96b7ad655568",
   "metadata": {
    "tags": []
   },
   "outputs": [
    {
     "data": {
      "text/plain": [
       "Dataset({\n",
       "    features: ['message_id', 'parent_id', 'user_id', 'created_date', 'text', 'role', 'lang', 'review_count', 'review_result', 'deleted', 'rank', 'synthetic', 'model_name', 'detoxify', 'message_tree_id', 'tree_state', 'emojis', 'labels'],\n",
       "    num_rows: 84437\n",
       "})"
      ]
     },
     "execution_count": 6,
     "metadata": {},
     "output_type": "execute_result"
    }
   ],
   "source": [
    "train"
   ]
  },
  {
   "cell_type": "code",
   "execution_count": 79,
   "id": "4b81f897-7da9-45dd-917a-7ce37862d2d1",
   "metadata": {
    "tags": []
   },
   "outputs": [
    {
     "data": {
      "text/html": [
       "<div>\n",
       "<style scoped>\n",
       "    .dataframe tbody tr th:only-of-type {\n",
       "        vertical-align: middle;\n",
       "    }\n",
       "\n",
       "    .dataframe tbody tr th {\n",
       "        vertical-align: top;\n",
       "    }\n",
       "\n",
       "    .dataframe thead th {\n",
       "        text-align: right;\n",
       "    }\n",
       "</style>\n",
       "<table border=\"1\" class=\"dataframe\">\n",
       "  <thead>\n",
       "    <tr style=\"text-align: right;\">\n",
       "      <th></th>\n",
       "      <th>message_tree_id</th>\n",
       "      <th>parent_id</th>\n",
       "      <th>message_id</th>\n",
       "      <th>role</th>\n",
       "      <th>text</th>\n",
       "    </tr>\n",
       "  </thead>\n",
       "  <tbody>\n",
       "    <tr>\n",
       "      <th>0</th>\n",
       "      <td>6ab24d72-0181-4594-a9cd-deaf170242fb</td>\n",
       "      <td>None</td>\n",
       "      <td>6ab24d72-0181-4594-a9cd-deaf170242fb</td>\n",
       "      <td>prompter</td>\n",
       "      <td>Can you write a short introduction about the r...</td>\n",
       "    </tr>\n",
       "    <tr>\n",
       "      <th>1</th>\n",
       "      <td>6ab24d72-0181-4594-a9cd-deaf170242fb</td>\n",
       "      <td>6ab24d72-0181-4594-a9cd-deaf170242fb</td>\n",
       "      <td>c8e83833-ecbc-44fe-b6db-735228c25a1c</td>\n",
       "      <td>assistant</td>\n",
       "      <td>\"Monopsony\" refers to a market structure where...</td>\n",
       "    </tr>\n",
       "    <tr>\n",
       "      <th>2</th>\n",
       "      <td>6ab24d72-0181-4594-a9cd-deaf170242fb</td>\n",
       "      <td>c8e83833-ecbc-44fe-b6db-735228c25a1c</td>\n",
       "      <td>6708c47f-05c9-4346-b3d2-40b2bd24fde4</td>\n",
       "      <td>prompter</td>\n",
       "      <td>Now explain it to a dog</td>\n",
       "    </tr>\n",
       "    <tr>\n",
       "      <th>3</th>\n",
       "      <td>6ab24d72-0181-4594-a9cd-deaf170242fb</td>\n",
       "      <td>6ab24d72-0181-4594-a9cd-deaf170242fb</td>\n",
       "      <td>343ee2d4-87ae-41fd-a768-bdd65959dc4a</td>\n",
       "      <td>assistant</td>\n",
       "      <td>Monopsony is a market structure in which there...</td>\n",
       "    </tr>\n",
       "    <tr>\n",
       "      <th>4</th>\n",
       "      <td>6ab24d72-0181-4594-a9cd-deaf170242fb</td>\n",
       "      <td>343ee2d4-87ae-41fd-a768-bdd65959dc4a</td>\n",
       "      <td>18145bf4-37fd-4ac0-80f5-6108b5f2b365</td>\n",
       "      <td>prompter</td>\n",
       "      <td>How can one fight back when a monospony had be...</td>\n",
       "    </tr>\n",
       "    <tr>\n",
       "      <th>...</th>\n",
       "      <td>...</td>\n",
       "      <td>...</td>\n",
       "      <td>...</td>\n",
       "      <td>...</td>\n",
       "      <td>...</td>\n",
       "    </tr>\n",
       "    <tr>\n",
       "      <th>84432</th>\n",
       "      <td>2e934881-260c-4a6c-8f09-66e0312f84ac</td>\n",
       "      <td>2e934881-260c-4a6c-8f09-66e0312f84ac</td>\n",
       "      <td>47ba67f2-f711-4feb-91ff-0a0ffe556fe5</td>\n",
       "      <td>assistant</td>\n",
       "      <td>James Potter eta Lily Potter ziren Harry Potte...</td>\n",
       "    </tr>\n",
       "    <tr>\n",
       "      <th>84433</th>\n",
       "      <td>d3946880-4402-42a8-8a9e-6dab5efa787f</td>\n",
       "      <td>None</td>\n",
       "      <td>d3946880-4402-42a8-8a9e-6dab5efa787f</td>\n",
       "      <td>prompter</td>\n",
       "      <td>Nork jarri zion ahotsa Dragoi Bolako Vegetari ...</td>\n",
       "    </tr>\n",
       "    <tr>\n",
       "      <th>84434</th>\n",
       "      <td>d3946880-4402-42a8-8a9e-6dab5efa787f</td>\n",
       "      <td>d3946880-4402-42a8-8a9e-6dab5efa787f</td>\n",
       "      <td>4e8a349d-7781-42ae-8868-1ecf5df4c2cb</td>\n",
       "      <td>assistant</td>\n",
       "      <td>Dragoi bolaren aurreneko denboraldian ez da Ve...</td>\n",
       "    </tr>\n",
       "    <tr>\n",
       "      <th>84435</th>\n",
       "      <td>d3946880-4402-42a8-8a9e-6dab5efa787f</td>\n",
       "      <td>d3946880-4402-42a8-8a9e-6dab5efa787f</td>\n",
       "      <td>ca45d4bd-2da7-4d56-beec-bf9f772e8426</td>\n",
       "      <td>assistant</td>\n",
       "      <td>Dragoi Bolako Vegetari euskarazko ahotsa jarri...</td>\n",
       "    </tr>\n",
       "    <tr>\n",
       "      <th>84436</th>\n",
       "      <td>d3946880-4402-42a8-8a9e-6dab5efa787f</td>\n",
       "      <td>d3946880-4402-42a8-8a9e-6dab5efa787f</td>\n",
       "      <td>6ea871e7-7582-4607-8b0a-84e4d0169868</td>\n",
       "      <td>assistant</td>\n",
       "      <td>Vegetari euskarazko ahotsa Felix Arkarazo akto...</td>\n",
       "    </tr>\n",
       "  </tbody>\n",
       "</table>\n",
       "<p>84437 rows × 5 columns</p>\n",
       "</div>"
      ],
      "text/plain": [
       "                            message_tree_id  \\\n",
       "0      6ab24d72-0181-4594-a9cd-deaf170242fb   \n",
       "1      6ab24d72-0181-4594-a9cd-deaf170242fb   \n",
       "2      6ab24d72-0181-4594-a9cd-deaf170242fb   \n",
       "3      6ab24d72-0181-4594-a9cd-deaf170242fb   \n",
       "4      6ab24d72-0181-4594-a9cd-deaf170242fb   \n",
       "...                                     ...   \n",
       "84432  2e934881-260c-4a6c-8f09-66e0312f84ac   \n",
       "84433  d3946880-4402-42a8-8a9e-6dab5efa787f   \n",
       "84434  d3946880-4402-42a8-8a9e-6dab5efa787f   \n",
       "84435  d3946880-4402-42a8-8a9e-6dab5efa787f   \n",
       "84436  d3946880-4402-42a8-8a9e-6dab5efa787f   \n",
       "\n",
       "                                  parent_id  \\\n",
       "0                                      None   \n",
       "1      6ab24d72-0181-4594-a9cd-deaf170242fb   \n",
       "2      c8e83833-ecbc-44fe-b6db-735228c25a1c   \n",
       "3      6ab24d72-0181-4594-a9cd-deaf170242fb   \n",
       "4      343ee2d4-87ae-41fd-a768-bdd65959dc4a   \n",
       "...                                     ...   \n",
       "84432  2e934881-260c-4a6c-8f09-66e0312f84ac   \n",
       "84433                                  None   \n",
       "84434  d3946880-4402-42a8-8a9e-6dab5efa787f   \n",
       "84435  d3946880-4402-42a8-8a9e-6dab5efa787f   \n",
       "84436  d3946880-4402-42a8-8a9e-6dab5efa787f   \n",
       "\n",
       "                                 message_id       role  \\\n",
       "0      6ab24d72-0181-4594-a9cd-deaf170242fb   prompter   \n",
       "1      c8e83833-ecbc-44fe-b6db-735228c25a1c  assistant   \n",
       "2      6708c47f-05c9-4346-b3d2-40b2bd24fde4   prompter   \n",
       "3      343ee2d4-87ae-41fd-a768-bdd65959dc4a  assistant   \n",
       "4      18145bf4-37fd-4ac0-80f5-6108b5f2b365   prompter   \n",
       "...                                     ...        ...   \n",
       "84432  47ba67f2-f711-4feb-91ff-0a0ffe556fe5  assistant   \n",
       "84433  d3946880-4402-42a8-8a9e-6dab5efa787f   prompter   \n",
       "84434  4e8a349d-7781-42ae-8868-1ecf5df4c2cb  assistant   \n",
       "84435  ca45d4bd-2da7-4d56-beec-bf9f772e8426  assistant   \n",
       "84436  6ea871e7-7582-4607-8b0a-84e4d0169868  assistant   \n",
       "\n",
       "                                                    text  \n",
       "0      Can you write a short introduction about the r...  \n",
       "1      \"Monopsony\" refers to a market structure where...  \n",
       "2                                Now explain it to a dog  \n",
       "3      Monopsony is a market structure in which there...  \n",
       "4      How can one fight back when a monospony had be...  \n",
       "...                                                  ...  \n",
       "84432  James Potter eta Lily Potter ziren Harry Potte...  \n",
       "84433  Nork jarri zion ahotsa Dragoi Bolako Vegetari ...  \n",
       "84434  Dragoi bolaren aurreneko denboraldian ez da Ve...  \n",
       "84435  Dragoi Bolako Vegetari euskarazko ahotsa jarri...  \n",
       "84436  Vegetari euskarazko ahotsa Felix Arkarazo akto...  \n",
       "\n",
       "[84437 rows x 5 columns]"
      ]
     },
     "execution_count": 79,
     "metadata": {},
     "output_type": "execute_result"
    }
   ],
   "source": [
    "# Creating a DataFrame with the keys 'text', 'parent_id', 'message_id' and 'role'\n",
    "df = pd.DataFrame({'message_tree_id': train_dataset['message_tree_id'], 'parent_id': train_dataset['parent_id'], 'message_id': train_dataset['message_id'], 'role': train_dataset['role'], 'text': train_dataset['text']})\n",
    "df"
   ]
  },
  {
   "cell_type": "code",
   "execution_count": 75,
   "id": "cafca088-3055-4b03-bdff-af61f76f9c72",
   "metadata": {
    "tags": []
   },
   "outputs": [],
   "source": [
    "# Creating a new DF to store the prompts and responses\n",
    "output_df = pd.DataFrame(columns=['prompt', 'response'])\n",
    "\n",
    "# Collecting list of unqiue tree ids\n",
    "tree_ids = set(df['message_tree_id'].unique())\n",
    "\n",
    "# Looping to collect each prompt and response\n",
    "for tree_id in tree_ids:\n",
    "    temp_df = df[df['message_tree_id'] == tree_id]\n",
    "    prompt_df = temp_df[temp_df[\"role\"] == 'prompter']\n",
    "    assistant_df = temp_df[temp_df[\"role\"] == 'assistant']\n",
    "\n",
    "    prompt_message_ids = prompt_df['message_id'].tolist()\n",
    "\n",
    "    prompts = []\n",
    "    responses = []\n",
    "\n",
    "    for id in prompt_message_ids:\n",
    "        prompt = prompt_df[prompt_df['message_id'] == id]['text'].iloc[0]\n",
    "        # collecting responses for same question together\n",
    "        response = assistant_df[assistant_df['parent_id'] == id]['text'].tolist()\n",
    "        response = ' '.join(response)\n",
    "\n",
    "        prompts.append(prompt)\n",
    "        responses.append(response)\n",
    "        \n",
    "    # Adding context of first question to all other questions\n",
    "    prompts = [prompts[0]] + [prompts[0] + element for element in prompts[1:]]\n",
    "    \n",
    "    # Storing to temp DF and then concatenating to main output DF\n",
    "    temp_df = pd.DataFrame({'prompt': prompts, 'response': responses})\n",
    "    output_df = pd.concat([output_df, temp_df], ignore_index=True)"
   ]
  },
  {
   "cell_type": "code",
   "execution_count": 80,
   "id": "11be18bb-8d3a-4ba2-9cf5-459d89e7c2fa",
   "metadata": {
    "tags": []
   },
   "outputs": [
    {
     "data": {
      "text/html": [
       "<div>\n",
       "<style scoped>\n",
       "    .dataframe tbody tr th:only-of-type {\n",
       "        vertical-align: middle;\n",
       "    }\n",
       "\n",
       "    .dataframe tbody tr th {\n",
       "        vertical-align: top;\n",
       "    }\n",
       "\n",
       "    .dataframe thead th {\n",
       "        text-align: right;\n",
       "    }\n",
       "</style>\n",
       "<table border=\"1\" class=\"dataframe\">\n",
       "  <thead>\n",
       "    <tr style=\"text-align: right;\">\n",
       "      <th></th>\n",
       "      <th>prompt</th>\n",
       "      <th>response</th>\n",
       "    </tr>\n",
       "  </thead>\n",
       "  <tbody>\n",
       "    <tr>\n",
       "      <th>0</th>\n",
       "      <td>Kannst du mir alle Lab Member aus Steins;Gate ...</td>\n",
       "      <td>Alles klar. Hier ist eine Liste der Future Gad...</td>\n",
       "    </tr>\n",
       "    <tr>\n",
       "      <th>1</th>\n",
       "      <td>Kannst du mir alle Lab Member aus Steins;Gate ...</td>\n",
       "      <td></td>\n",
       "    </tr>\n",
       "    <tr>\n",
       "      <th>2</th>\n",
       "      <td>¿Para qué sirve la etiqueta &lt;br&gt; de html?</td>\n",
       "      <td>La etiqueta HTML &lt;br&gt; se utiliza para insertar...</td>\n",
       "    </tr>\n",
       "    <tr>\n",
       "      <th>3</th>\n",
       "      <td>¿Para qué sirve la etiqueta &lt;br&gt; de html?¿La e...</td>\n",
       "      <td>La etiqueta `&lt;br&gt;` se puede utilizar en la may...</td>\n",
       "    </tr>\n",
       "    <tr>\n",
       "      <th>4</th>\n",
       "      <td>¿Para qué sirve la etiqueta &lt;br&gt; de html?¿Es a...</td>\n",
       "      <td></td>\n",
       "    </tr>\n",
       "    <tr>\n",
       "      <th>...</th>\n",
       "      <td>...</td>\n",
       "      <td>...</td>\n",
       "    </tr>\n",
       "    <tr>\n",
       "      <th>31520</th>\n",
       "      <td>¿Cómo recuperar una batería de litio que se ha...</td>\n",
       "      <td></td>\n",
       "    </tr>\n",
       "    <tr>\n",
       "      <th>31521</th>\n",
       "      <td>¿Cómo recuperar una batería de litio que se ha...</td>\n",
       "      <td></td>\n",
       "    </tr>\n",
       "    <tr>\n",
       "      <th>31522</th>\n",
       "      <td>¿Cómo recuperar una batería de litio que se ha...</td>\n",
       "      <td></td>\n",
       "    </tr>\n",
       "    <tr>\n",
       "      <th>31523</th>\n",
       "      <td>¿Cómo recuperar una batería de litio que se ha...</td>\n",
       "      <td></td>\n",
       "    </tr>\n",
       "    <tr>\n",
       "      <th>31524</th>\n",
       "      <td>¿Cómo recuperar una batería de litio que se ha...</td>\n",
       "      <td>Puedes hacer que parezca un accidente (guiño, ...</td>\n",
       "    </tr>\n",
       "  </tbody>\n",
       "</table>\n",
       "<p>31525 rows × 2 columns</p>\n",
       "</div>"
      ],
      "text/plain": [
       "                                                  prompt  \\\n",
       "0      Kannst du mir alle Lab Member aus Steins;Gate ...   \n",
       "1      Kannst du mir alle Lab Member aus Steins;Gate ...   \n",
       "2              ¿Para qué sirve la etiqueta <br> de html?   \n",
       "3      ¿Para qué sirve la etiqueta <br> de html?¿La e...   \n",
       "4      ¿Para qué sirve la etiqueta <br> de html?¿Es a...   \n",
       "...                                                  ...   \n",
       "31520  ¿Cómo recuperar una batería de litio que se ha...   \n",
       "31521  ¿Cómo recuperar una batería de litio que se ha...   \n",
       "31522  ¿Cómo recuperar una batería de litio que se ha...   \n",
       "31523  ¿Cómo recuperar una batería de litio que se ha...   \n",
       "31524  ¿Cómo recuperar una batería de litio que se ha...   \n",
       "\n",
       "                                                response  \n",
       "0      Alles klar. Hier ist eine Liste der Future Gad...  \n",
       "1                                                         \n",
       "2      La etiqueta HTML <br> se utiliza para insertar...  \n",
       "3      La etiqueta `<br>` se puede utilizar en la may...  \n",
       "4                                                         \n",
       "...                                                  ...  \n",
       "31520                                                     \n",
       "31521                                                     \n",
       "31522                                                     \n",
       "31523                                                     \n",
       "31524  Puedes hacer que parezca un accidente (guiño, ...  \n",
       "\n",
       "[31525 rows x 2 columns]"
      ]
     },
     "execution_count": 80,
     "metadata": {},
     "output_type": "execute_result"
    }
   ],
   "source": [
    "output_df"
   ]
  },
  {
   "cell_type": "code",
   "execution_count": 82,
   "id": "3972cddc-056a-4aa2-90c3-8f6f18ed94f4",
   "metadata": {
    "tags": []
   },
   "outputs": [
    {
     "data": {
      "text/html": [
       "<div>\n",
       "<style scoped>\n",
       "    .dataframe tbody tr th:only-of-type {\n",
       "        vertical-align: middle;\n",
       "    }\n",
       "\n",
       "    .dataframe tbody tr th {\n",
       "        vertical-align: top;\n",
       "    }\n",
       "\n",
       "    .dataframe thead th {\n",
       "        text-align: right;\n",
       "    }\n",
       "</style>\n",
       "<table border=\"1\" class=\"dataframe\">\n",
       "  <thead>\n",
       "    <tr style=\"text-align: right;\">\n",
       "      <th></th>\n",
       "      <th>prompt</th>\n",
       "      <th>response</th>\n",
       "    </tr>\n",
       "  </thead>\n",
       "  <tbody>\n",
       "    <tr>\n",
       "      <th>0</th>\n",
       "      <td>Kannst du mir alle Lab Member aus Steins;Gate ...</td>\n",
       "      <td>Alles klar. Hier ist eine Liste der Future Gad...</td>\n",
       "    </tr>\n",
       "    <tr>\n",
       "      <th>2</th>\n",
       "      <td>¿Para qué sirve la etiqueta &lt;br&gt; de html?</td>\n",
       "      <td>La etiqueta HTML &lt;br&gt; se utiliza para insertar...</td>\n",
       "    </tr>\n",
       "    <tr>\n",
       "      <th>3</th>\n",
       "      <td>¿Para qué sirve la etiqueta &lt;br&gt; de html?¿La e...</td>\n",
       "      <td>La etiqueta `&lt;br&gt;` se puede utilizar en la may...</td>\n",
       "    </tr>\n",
       "    <tr>\n",
       "      <th>5</th>\n",
       "      <td>¿Para qué sirve la etiqueta &lt;br&gt; de html?¿Es c...</td>\n",
       "      <td>No. Es como la tecla \"Intro\" pulsada una sola ...</td>\n",
       "    </tr>\n",
       "    <tr>\n",
       "      <th>6</th>\n",
       "      <td>Cuál es el código para crear un gráfico en Pyt...</td>\n",
       "      <td>Para crear un gráfico en Python con la librerí...</td>\n",
       "    </tr>\n",
       "    <tr>\n",
       "      <th>...</th>\n",
       "      <td>...</td>\n",
       "      <td>...</td>\n",
       "    </tr>\n",
       "    <tr>\n",
       "      <th>31516</th>\n",
       "      <td>Мне нужна конфигурация компьютера, на котором ...</td>\n",
       "      <td>Предоставленная конфигурация сможет запустить ...</td>\n",
       "    </tr>\n",
       "    <tr>\n",
       "      <th>31517</th>\n",
       "      <td>Мне нужна конфигурация компьютера, на котором ...</td>\n",
       "      <td>ДОГОВОР НА РАЗРАБОТКУ ВЕБ-САЙТА\\n\\nМежду _____...</td>\n",
       "    </tr>\n",
       "    <tr>\n",
       "      <th>31518</th>\n",
       "      <td>¿Cómo recuperar una batería de litio que se ha...</td>\n",
       "      <td>Lo primero sería asegurarse de que el fallo es...</td>\n",
       "    </tr>\n",
       "    <tr>\n",
       "      <th>31519</th>\n",
       "      <td>¿Cómo recuperar una batería de litio que se ha...</td>\n",
       "      <td>Un placer, cualquier otra consulta estaré aquí...</td>\n",
       "    </tr>\n",
       "    <tr>\n",
       "      <th>31524</th>\n",
       "      <td>¿Cómo recuperar una batería de litio que se ha...</td>\n",
       "      <td>Puedes hacer que parezca un accidente (guiño, ...</td>\n",
       "    </tr>\n",
       "  </tbody>\n",
       "</table>\n",
       "<p>20587 rows × 2 columns</p>\n",
       "</div>"
      ],
      "text/plain": [
       "                                                  prompt  \\\n",
       "0      Kannst du mir alle Lab Member aus Steins;Gate ...   \n",
       "2              ¿Para qué sirve la etiqueta <br> de html?   \n",
       "3      ¿Para qué sirve la etiqueta <br> de html?¿La e...   \n",
       "5      ¿Para qué sirve la etiqueta <br> de html?¿Es c...   \n",
       "6      Cuál es el código para crear un gráfico en Pyt...   \n",
       "...                                                  ...   \n",
       "31516  Мне нужна конфигурация компьютера, на котором ...   \n",
       "31517  Мне нужна конфигурация компьютера, на котором ...   \n",
       "31518  ¿Cómo recuperar una batería de litio que se ha...   \n",
       "31519  ¿Cómo recuperar una batería de litio que se ha...   \n",
       "31524  ¿Cómo recuperar una batería de litio que se ha...   \n",
       "\n",
       "                                                response  \n",
       "0      Alles klar. Hier ist eine Liste der Future Gad...  \n",
       "2      La etiqueta HTML <br> se utiliza para insertar...  \n",
       "3      La etiqueta `<br>` se puede utilizar en la may...  \n",
       "5      No. Es como la tecla \"Intro\" pulsada una sola ...  \n",
       "6      Para crear un gráfico en Python con la librerí...  \n",
       "...                                                  ...  \n",
       "31516  Предоставленная конфигурация сможет запустить ...  \n",
       "31517  ДОГОВОР НА РАЗРАБОТКУ ВЕБ-САЙТА\\n\\nМежду _____...  \n",
       "31518  Lo primero sería asegurarse de que el fallo es...  \n",
       "31519  Un placer, cualquier otra consulta estaré aquí...  \n",
       "31524  Puedes hacer que parezca un accidente (guiño, ...  \n",
       "\n",
       "[20587 rows x 2 columns]"
      ]
     },
     "execution_count": 82,
     "metadata": {},
     "output_type": "execute_result"
    }
   ],
   "source": [
    "final_df = output_df[output_df['response'] != '']\n",
    "final_df"
   ]
  },
  {
   "cell_type": "code",
   "execution_count": 83,
   "id": "bae0d051-e69e-48cd-a5b6-fd0e8e325b13",
   "metadata": {
    "tags": []
   },
   "outputs": [],
   "source": [
    "# Write DataFrame to a JSON Lines file\n",
    "with open('finetuning_data.jsonl', 'w') as file:\n",
    "    for _, row in final_df.iterrows():\n",
    "        file.write(row.to_json() + '\\n')"
   ]
  },
  {
   "cell_type": "code",
   "execution_count": null,
   "id": "4b8eb24c-bfe5-457e-8637-c3806421feee",
   "metadata": {},
   "outputs": [],
   "source": []
  }
 ],
 "metadata": {
  "kernelspec": {
   "display_name": "Python 3 (ipykernel)",
   "language": "python",
   "name": "python3"
  },
  "language_info": {
   "codemirror_mode": {
    "name": "ipython",
    "version": 3
   },
   "file_extension": ".py",
   "mimetype": "text/x-python",
   "name": "python",
   "nbconvert_exporter": "python",
   "pygments_lexer": "ipython3",
   "version": "3.11.5"
  }
 },
 "nbformat": 4,
 "nbformat_minor": 5
}
